{
 "cells": [
  {
   "cell_type": "markdown",
   "metadata": {},
   "source": [
    "## 卡尔曼基础摘要 "
   ]
  },
  {
   "cell_type": "markdown",
   "metadata": {},
   "source": [
    "![alt tag](https://raw.githubusercontent.com/rlabbe/Kalman-and-Bayesian-Filters-in-Python/master/animations/05_dog_track.gif)"
   ]
  },
  {
   "cell_type": "markdown",
   "metadata": {},
   "source": [
    "## KF\n",
    "$$\n",
    "\\begin{aligned}\n",
    "\\overline{\\mathbf x} &= \\mathbf{Fx} + \\mathbf{Bu} \\\\\n",
    "\\overline{\\mathbf P} &=  \\mathbf{FPF}^\\mathsf{T} + \\mathbf Q \\\\ \\\\\n",
    "\\mathbf y &= \\mathbf z - \\mathbf{H}\\overline{\\mathbf x} \\\\\n",
    "\\mathbf S &= \\mathbf{H}\\overline{\\mathbf P}\\mathbf{H}^\\mathsf{T} + \\mathbf R \\\\\n",
    "\\mathbf K &= \\overline{\\mathbf P}\\mathbf{H}^\\mathsf{T}\\mathbf{S}^{-1} \\\\\n",
    "\\mathbf x  &= \\overline{\\mathbf x} +\\mathbf{Ky} \\\\\n",
    "\\mathbf P &= (\\mathbf{I}-\\mathbf{KH})\\overline{\\mathbf P}\n",
    "\\end{aligned}$$\n",
    "\n",
    "### Likelihood Function\n",
    "\n",
    "$$\\begin{aligned}\n",
    "\\mathbf y &= \\mathbf z - \\mathbf{H \\bar x}\\\\\n",
    "\\mathbf S &= \\mathbf{H\\bar{P}H}^\\mathsf T + \\mathbf R\n",
    "\\end{aligned}\n",
    "$$\n",
    "\n",
    "Given these we can compute the likelihood function with\n",
    "\n",
    "$$\n",
    "\\mathcal{L} = \\frac{1}{\\sqrt{2\\pi S}}\\exp [-\\frac{1}{2}\\mathbf y^\\mathsf T\\mathbf S^{-1}\\mathbf y]$$"
   ]
  },
  {
   "cell_type": "markdown",
   "metadata": {},
   "source": [
    "## EKF\n",
    "\n",
    "### 对比标准卡尔曼\n",
    "$$\\begin{array}{l|l}\n",
    "\\text{linear Kalman filter} & \\text{EKF} \\\\\n",
    "\\hline \n",
    "& \\boxed{\\mathbf F = {\\frac{\\partial{f(\\mathbf x_t, \\mathbf u_t)}}{\\partial{\\mathbf x}}}\\biggr|_{{\\mathbf x_t},{\\mathbf u_t}}} \\\\\n",
    "\\mathbf{\\bar x} = \\mathbf{Fx} + \\mathbf{Bu} & \\boxed{\\mathbf{\\bar x} = f(\\mathbf x, \\mathbf u)}  \\\\\n",
    "\\mathbf{\\bar P} = \\mathbf{FPF}^\\mathsf{T}+\\mathbf Q  & \\mathbf{\\bar P} = \\mathbf{FPF}^\\mathsf{T}+\\mathbf Q \\\\\n",
    "\\hline\n",
    "& \\boxed{\\mathbf H = \\frac{\\partial{h(\\bar{\\mathbf x}_t)}}{\\partial{\\bar{\\mathbf x}}}\\biggr|_{\\bar{\\mathbf x}_t}} \\\\\n",
    "\\textbf{y} = \\mathbf z - \\mathbf{H \\bar{x}} & \\textbf{y} = \\mathbf z - \\boxed{h(\\bar{x})}\\\\\n",
    "\\mathbf{K} = \\mathbf{\\bar{P}H}^\\mathsf{T} (\\mathbf{H\\bar{P}H}^\\mathsf{T} + \\mathbf R)^{-1} & \\mathbf{K} = \\mathbf{\\bar{P}H}^\\mathsf{T} (\\mathbf{H\\bar{P}H}^\\mathsf{T} + \\mathbf R)^{-1} \\\\\n",
    "\\mathbf x=\\mathbf{\\bar{x}} +\\mathbf{K\\textbf{y}} & \\mathbf x=\\mathbf{\\bar{x}} +\\mathbf{K\\textbf{y}} \\\\\n",
    "\\mathbf P= (\\mathbf{I}-\\mathbf{KH})\\mathbf{\\bar{P}} & \\mathbf P= (\\mathbf{I}-\\mathbf{KH})\\mathbf{\\bar{P}}\n",
    "\\end{array}$$"
   ]
  },
  {
   "cell_type": "code",
   "execution_count": 2,
   "metadata": {},
   "outputs": [
    {
     "data": {
      "text/latex": [
       "$\\displaystyle \\left[\\begin{matrix}x\\\\y\\\\vx\\\\vy\\\\ax\\\\ay\\end{matrix}\\right]$"
      ],
      "text/plain": [
       "⎡x ⎤\n",
       "⎢  ⎥\n",
       "⎢y ⎥\n",
       "⎢  ⎥\n",
       "⎢vx⎥\n",
       "⎢  ⎥\n",
       "⎢vy⎥\n",
       "⎢  ⎥\n",
       "⎢ax⎥\n",
       "⎢  ⎥\n",
       "⎣ay⎦"
      ]
     },
     "metadata": {},
     "output_type": "display_data"
    },
    {
     "data": {
      "text/latex": [
       "$\\displaystyle \\left[\\begin{matrix}1 & 0 & 0 & 0 & 0 & 0\\\\0 & 1 & 0 & 0 & 0 & 0\\\\\\frac{vx}{\\sqrt{x^{2} + y^{2}}} - \\frac{x \\left(vx x + vy y\\right)}{\\left(x^{2} + y^{2}\\right)^{\\frac{3}{2}}} & \\frac{vy}{\\sqrt{x^{2} + y^{2}}} - \\frac{y \\left(vx x + vy y\\right)}{\\left(x^{2} + y^{2}\\right)^{\\frac{3}{2}}} & \\frac{x}{\\sqrt{x^{2} + y^{2}}} & \\frac{y}{\\sqrt{x^{2} + y^{2}}} & 0 & 0\\end{matrix}\\right]$"
      ],
      "text/plain": [
       "⎡              1                               0                      0       \n",
       "⎢                                                                             \n",
       "⎢              0                               1                      0       \n",
       "⎢                                                                             \n",
       "⎢     vx        x⋅(vx⋅x + vy⋅y)       vy        y⋅(vx⋅x + vy⋅y)       x       \n",
       "⎢──────────── - ───────────────  ──────────── - ───────────────  ──────────── \n",
       "⎢   _________              3/2      _________              3/2      _________ \n",
       "⎢  ╱  2    2      ⎛ 2    2⎞        ╱  2    2      ⎛ 2    2⎞        ╱  2    2  \n",
       "⎣╲╱  x  + y       ⎝x  + y ⎠      ╲╱  x  + y       ⎝x  + y ⎠      ╲╱  x  + y   \n",
       "\n",
       "      0        0  0⎤\n",
       "                   ⎥\n",
       "      0        0  0⎥\n",
       "                   ⎥\n",
       "      y            ⎥\n",
       " ────────────  0  0⎥\n",
       "    _________      ⎥\n",
       "   ╱  2    2       ⎥\n",
       " ╲╱  x  + y        ⎦"
      ]
     },
     "metadata": {},
     "output_type": "display_data"
    }
   ],
   "source": [
    "import sympy\n",
    "from IPython.display import display\n",
    "sympy.init_printing(use_latex='mathjax')\n",
    "\n",
    "x, y, vx, vy, ax, ay = sympy.symbols('x, y, vx, vy, ax, ay')\n",
    "\n",
    "H = sympy.Matrix([x, y, (x*vx+y*vy) / sympy.sqrt(x**2 + y**2)])\n",
    "\n",
    "state = sympy.Matrix([x, y, vx, vy, ax, ay])\n",
    "J = H.jacobian(state)\n",
    "\n",
    "display(state)\n",
    "display(J)"
   ]
  },
  {
   "cell_type": "markdown",
   "metadata": {},
   "source": [
    "## UKF\n",
    "### Predict Step\n",
    "\n",
    "The UKF's predict step computes the prior using the process model $f()$. $f()$ is assumed to be nonlinear, so we generate `sigma points` $\\mathcal{X}$ and their corresponding weights $W^m, W^c$\n",
    "according to some function:\n",
    "\n",
    "$$\\begin{aligned}\n",
    "\\boldsymbol\\chi &= \\text{sigma-function}(\\mathbf x, \\mathbf P) \\\\\n",
    "W^m, W^c &= \\text{weight-function}(\\mathtt{n, parameters})\\end{aligned}$$\n",
    "\n",
    "We pass each sigma point through $f(\\mathbf x, \\Delta t)$. This projects the sigma points forward in time according to the process model, forming the new prior, which is a set of sigma points we name $\\boldsymbol{\\mathcal Y}$:\n",
    "\n",
    "$$\\boldsymbol{\\mathcal{Y}} = f(\\boldsymbol{\\chi}, \\Delta t)$$\n",
    "\n",
    "We compute the mean and covariance of the prior using the `unscented transform` on the transformed sigma points.  \n",
    "\n",
    "$$\\mathbf{\\bar x}, \\mathbf{\\bar P} = \n",
    "UT(\\mathcal{Y}, w_m, w_c, \\mathbf Q)$$\n",
    "\n",
    "These are the equations for the unscented transform:\n",
    "\n",
    "$$\\begin{aligned}\n",
    "\\mathbf{\\bar x} &= \\sum_{i=0}^{2n} w^m_i\\boldsymbol{\\mathcal Y}_i \\\\\n",
    "\\mathbf{\\bar P} &= \\sum_{i=0}^{2n} w^c_i({\\boldsymbol{\\mathcal Y}_i - \\mathbf{\\bar x})(\\boldsymbol{\\mathcal Y}_i-\\mathbf{\\bar x})^\\mathsf{T}} + \\mathbf Q\n",
    "\\end{aligned}\n",
    "$$\n",
    "\n",
    "This table compares the linear Kalman filter with the Unscented Kalman Filter equations. I've dropped the subscript $i$ for readability.\n",
    "\n",
    "$$\\begin{array}{l|l}\n",
    "\\text{Kalman} & \\text{Unscented} \\\\\n",
    "\\hline \n",
    "& \\boldsymbol{\\mathcal Y} = f(\\boldsymbol\\chi) \\\\\n",
    "\\mathbf{\\bar x} = \\mathbf{Fx} & \n",
    "\\mathbf{\\bar x} = \\sum w^m\\boldsymbol{\\mathcal Y}  \\\\\n",
    "\\mathbf{\\bar P} = \\mathbf{FPF}^\\mathsf T + \\mathbf Q  & \n",
    "\\mathbf{\\bar P} = \\sum w^c({\\boldsymbol{\\mathcal Y} - \\mathbf{\\bar x})(\\boldsymbol{\\mathcal Y} - \\mathbf{\\bar x})^\\mathsf T}+\\mathbf Q\n",
    "\\end{array}$$"
   ]
  },
  {
   "cell_type": "markdown",
   "metadata": {},
   "source": [
    "### Update Step\n",
    "\n",
    "Kalman filters perform the update in measurement space. Thus we must convert the sigma points of the prior into measurements using a measurement function $h(x)$ that you define.\n",
    "\n",
    "$$\\boldsymbol{\\mathcal{Z}} = h(\\boldsymbol{\\mathcal{Y}})$$\n",
    "\n",
    "We compute the mean and covariance of these points using the unscented transform. The $z$ subscript denotes that these are the mean and covariance of the measurement sigma points.\n",
    "\n",
    "$$\\begin{aligned}\n",
    "\\boldsymbol\\mu_z, \\mathbf P_z &= \n",
    "UT(\\boldsymbol{\\mathcal Z}, w_m, w_c, \\mathbf R) \\\\\n",
    "\\boldsymbol\\mu_z &= \\sum_{i=0}^{2n} w^m_i\\boldsymbol{\\mathcal Z}_i \\\\\n",
    "\\mathbf P_z &= \\sum_{i=0}^{2n} w^c_i{(\\boldsymbol{\\mathcal Z}_i-\\boldsymbol{\\mu}_z)(\\boldsymbol{\\mathcal Z}_i-\\boldsymbol{\\mu}_z)^\\mathsf T} + \\mathbf R\n",
    "\\end{aligned}\n",
    "$$\n",
    "\n",
    "Next we compute the residual and Kalman gain. The residual of the measurement $\\mathbf z$ is trivial to compute:\n",
    "\n",
    "$$\\mathbf y = \\mathbf z - \\boldsymbol\\mu_z$$\n",
    "\n",
    "To compute the Kalman gain we first compute the [cross covariance](https://en.wikipedia.org/wiki/Cross-covariance) of the state and the measurements, which is defined as: \n",
    "\n",
    "$$\\mathbf P_{xz} =\\sum_{i=0}^{2n} w^c_i(\\boldsymbol{\\mathcal Y}_i-\\mathbf{\\bar x})(\\boldsymbol{\\mathcal Z}_i-\\boldsymbol\\mu_z)^\\mathsf T$$\n",
    "\n",
    "And then the Kalman gain is defined as\n",
    "\n",
    "$$\\mathbf{K} = \\mathbf P_{xz} \\mathbf P_z^{-1}$$\n",
    "\n",
    "If you think of the inverse as a *kind of* matrix reciprocal, you can see that the Kalman gain is a simple ratio which computes:\n",
    "\n",
    "$$\\mathbf{K} \\approx \\frac{\\mathbf P_{xz}}{\\mathbf P_z} \n",
    "\\approx \\frac{\\text{belief in state}}{\\text{belief in measurement}}$$\n",
    "\n",
    "Finally, we compute the new state estimate using the residual and Kalman gain:\n",
    "\n",
    "$$\\mathbf x = \\bar{\\mathbf x} + \\mathbf{Ky}$$\n",
    "\n",
    "and the new covariance is computed as:\n",
    "\n",
    "$$ \\mathbf P = \\mathbf{\\bar P} - \\mathbf{KP_z}\\mathbf{K}^\\mathsf{T}$$\n",
    "\n",
    "This step contains a few equations you have to take on faith, but you should be able to see how they relate to the linear Kalman filter equations. The linear algebra is slightly different from the linear Kalman filter, but the algorithm is the same Bayesian algorithm we have been implementing throughout the book. \n",
    "\n",
    "This table compares the equations of the linear KF and UKF equations.\n",
    "\n",
    "$$\\begin{array}{l|l}\n",
    "\\textrm{Kalman Filter} & \\textrm{Unscented Kalman Filter} \\\\\n",
    "\\hline \n",
    "& \\boldsymbol{\\mathcal Y} = f(\\boldsymbol\\chi) \\\\\n",
    "\\mathbf{\\bar x} = \\mathbf{Fx} & \n",
    "\\mathbf{\\bar x} = \\sum w^m\\boldsymbol{\\mathcal Y}  \\\\\n",
    "\\mathbf{\\bar P} = \\mathbf{FPF}^\\mathsf T+\\mathbf Q  & \n",
    "\\mathbf{\\bar P} = \\sum w^c({\\boldsymbol{\\mathcal Y} - \\mathbf{\\bar x})(\\boldsymbol{\\mathcal Y} - \\mathbf{\\bar x})^\\mathsf T}+\\mathbf Q \\\\\n",
    "\\hline \n",
    "& \\boldsymbol{\\mathcal Z} =  h(\\boldsymbol{\\mathcal{Y}}) \\\\\n",
    "& \\boldsymbol\\mu_z = \\sum w^m\\boldsymbol{\\mathcal{Z}} \\\\\n",
    "\\mathbf y = \\mathbf z - \\mathbf{Hx} &\n",
    "\\mathbf y = \\mathbf z - \\boldsymbol\\mu_z \\\\\n",
    "\\mathbf S = \\mathbf{H\\bar PH}^\\mathsf{T} + \\mathbf R & \n",
    "\\mathbf P_z = \\sum w^c{(\\boldsymbol{\\mathcal Z}-\\boldsymbol\\mu_z)(\\boldsymbol{\\mathcal{Z}}-\\boldsymbol\\mu_z)^\\mathsf{T}} + \\mathbf R \\\\ \n",
    "\\mathbf K = \\mathbf{\\bar PH}^\\mathsf T \\mathbf S^{-1} &\n",
    "\\mathbf K = \\left[\\sum w^c(\\boldsymbol{\\mathcal Y}-\\bar{\\mathbf x})(\\boldsymbol{\\mathcal{Z}}-\\boldsymbol\\mu_z)^\\mathsf{T}\\right] \\mathbf P_z^{-1} \\\\\n",
    "\\mathbf x = \\mathbf{\\bar x} + \\mathbf{Ky} & \\mathbf x = \\mathbf{\\bar x} + \\mathbf{Ky}\\\\\n",
    "\\mathbf P = (\\mathbf{I}-\\mathbf{KH})\\mathbf{\\bar P} & \\mathbf P = \\bar{\\mathbf P} - \\mathbf{KP_z}\\mathbf{K}^\\mathsf{T}\n",
    "\\end{array}$$\n"
   ]
  },
  {
   "cell_type": "markdown",
   "metadata": {},
   "source": [
    "### `Sigma Point Computation`\n",
    "\n",
    "The first sigma point is the mean of the input. This is the sigma point displayed in the center of the ellipses in the diagram above. We will call this $\\boldsymbol{\\chi}_0$.\n",
    "\n",
    "$$ \\mathcal{X}_0 = \\mu$$\n",
    "\n",
    "For notational convenience we define $\\lambda = \\alpha^2(n+\\kappa)-n$, where $n$ is the dimension of $\\mathbf x$. The remaining sigma points are computed as\n",
    "\n",
    "$$ \n",
    "\\boldsymbol{\\chi}_i = \\begin{cases}\n",
    "\\mu + \\left[ \\sqrt{(n+\\lambda)\\Sigma}\\right ]_{i}& i=1..n \\\\\n",
    "\\mu - \\left[ \\sqrt{(n+\\lambda)\\Sigma}\\right]_{i-n} &i=(n+1)..2n\\end{cases}\n",
    "$$\n",
    "The $i$ subscript chooses the i $^{th}$ row vector of the matrix.\n",
    "\n",
    "In other words, we scale the covariance matrix by a constant, take the square root of it, and ensure symmetry by both adding and subtracting it from the mean. We will discuss how you take the square root of a matrix later."
   ]
  },
  {
   "cell_type": "markdown",
   "metadata": {},
   "source": [
    "## Weight Computation\n",
    "\n",
    "This formulation uses one set of weights for the means, and another set for the covariance. The weights for the mean of $\\mathcal{X}_0$ is computed as\n",
    "\n",
    "$$W^m_0 = \\frac{\\lambda}{n+\\lambda}$$\n",
    "\n",
    "The weight for the covariance of $\\mathcal{X}_0$ is\n",
    "\n",
    "$$W^c_0 = \\frac{\\lambda}{n+\\lambda} + 1 -\\alpha^2 + \\beta$$\n",
    "\n",
    "The weights for the rest of the sigma points $\\boldsymbol{\\chi}_1 ... \\boldsymbol{\\chi}_{2n}$ are the same for the mean and covariance. They are\n",
    "\n",
    "$$W^m_i = W^c_i = \\frac{1}{2(n+\\lambda)}\\;\\;\\;i=1..2n$$\n",
    "\n",
    "It may not be obvious why this is 'correct', and indeed, it cannot be proven that this is ideal for all nonlinear problems. But you can see that we are choosing the sigma points proportional to the square root of the covariance matrix, and the square root of variance is standard deviation. So, the sigma points are spread roughly according to $\\pm 1\\sigma$ times some scaling factor. There is an $n$ term in the denominator, so with more dimensions the points will be spread out and weighed less.\n",
    "\n",
    "**Important note:** Ordinarily these weights do not sum to one. I get many questions about this. Getting weights that sum to greater than one, or even negative values is expected. I cover this in more detail below.\n",
    "\n",
    "\n",
    "### Reasonable Choices for the Parameters\n",
    "\n",
    "$\\beta=2$ is a good choice for Gaussian problems, $\\kappa=3-n$ where $n$ is the dimension of $\\mathbf x$ is a good choice for $\\kappa$, and $0 \\le \\alpha \\le 1$ is an appropriate choice for $\\alpha$, `where a larger value for` $\\alpha$ `spreads the sigma points further from the mean`.\n"
   ]
  },
  {
   "cell_type": "markdown",
   "metadata": {},
   "source": [
    "## 参考链接\n",
    "- [Kalman and Bayesian Filters in Python](https://github.com/rlabbe/Kalman-and-Bayesian-Filters-in-Python)"
   ]
  }
 ],
 "metadata": {
  "kernelspec": {
   "display_name": "Python 3",
   "language": "python",
   "name": "python3"
  },
  "language_info": {
   "codemirror_mode": {
    "name": "ipython",
    "version": 3
   },
   "file_extension": ".py",
   "mimetype": "text/x-python",
   "name": "python",
   "nbconvert_exporter": "python",
   "pygments_lexer": "ipython3",
   "version": "3.9.6"
  },
  "orig_nbformat": 4,
  "vscode": {
   "interpreter": {
    "hash": "31f2aee4e71d21fbe5cf8b01ff0e069b9275f58929596ceb00d14d90e3e16cd6"
   }
  }
 },
 "nbformat": 4,
 "nbformat_minor": 2
}
