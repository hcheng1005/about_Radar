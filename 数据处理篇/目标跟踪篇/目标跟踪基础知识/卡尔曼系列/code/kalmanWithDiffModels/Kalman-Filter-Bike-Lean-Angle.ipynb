{
 "cells": [
  {
   "cell_type": "markdown",
   "metadata": {},
   "source": [
    "# Kalman Filter for Bike Lean Angle Estimation\n",
    "\n",
    "You've seen this probably on MotoGP, where the camera mounted on the bike is exactly horizontal, even when the bike leans. This is not as easy at it seems."
   ]
  },
  {
   "cell_type": "code",
   "execution_count": 725,
   "metadata": {
    "collapsed": true
   },
   "outputs": [],
   "source": [
    "from IPython.display import YouTubeVideo"
   ]
  },
  {
   "cell_type": "code",
   "execution_count": 726,
   "metadata": {
    "collapsed": false
   },
   "outputs": [
    {
     "data": {
      "text/html": [
       "\n",
       "        <iframe\n",
       "            width=\"720\"\n",
       "            height=\"390\"\n",
       "            src=\"https://www.youtube.com/embed/-p2ndhw-kfQ\"\n",
       "            frameborder=\"0\"\n",
       "            allowfullscreen\n",
       "        ></iframe>\n",
       "        "
      ],
      "text/plain": [
       "<IPython.lib.display.YouTubeVideo at 0x11d80b3d0>"
      ]
     },
     "execution_count": 726,
     "metadata": {},
     "output_type": "execute_result"
    }
   ],
   "source": [
    "YouTubeVideo('-p2ndhw-kfQ', width=720, height=390)"
   ]
  },
  {
   "cell_type": "markdown",
   "metadata": {},
   "source": [
    "The first try would be to use the gravitational force and just point the camera to the ground.\n",
    "\n",
    "Doesn't work on bikes, because they are leaning in exactly this angle, which is needed to compensate the gravitational force with the centrifugal force.\n",
    "\n",
    "![Bike Lean](https://upload.wikimedia.org/wikipedia/en/8/87/BikeLeanForces3.PNG)\n",
    "\n",
    "One has to use two different sensors:\n",
    "\n",
    "1. a rotationrate sensor for lean angle\n",
    "2. a acceleration sensor for gravitional force\n",
    "\n",
    "Both sensors have to be fused to estimate the lean angle. This is done with a Kalman Filter. We are using [Sympy](http://www.sympy.org/de/) do develop this filter."
   ]
  },
  {
   "cell_type": "code",
   "execution_count": 727,
   "metadata": {
    "collapsed": false
   },
   "outputs": [],
   "source": [
    "import numpy as np\n",
    "from sympy import Symbol, symbols, Matrix, sin, cos, acos, pi\n",
    "from sympy.abc import phi, g, a\n",
    "from sympy import init_printing\n",
    "init_printing(use_latex=True)"
   ]
  },
  {
   "cell_type": "markdown",
   "metadata": {},
   "source": [
    "The state vector to describe the state of the bike consists of two variables:\n",
    "\n",
    "$$\\vec x= \\left[ \\matrix{ \\phi \\\\ \\dot \\phi} \\right]$$\n",
    "\n",
    "which is the lean angle $\\phi$ (in radian) and the lean angle rate $\\dot \\phi$ (in radian per second)."
   ]
  },
  {
   "cell_type": "code",
   "execution_count": 728,
   "metadata": {
    "collapsed": false
   },
   "outputs": [],
   "source": [
    "phis = symbols('phi')\n",
    "dphis = Symbol('\\dot \\phi')\n",
    "Ts = symbols('T')"
   ]
  },
  {
   "cell_type": "code",
   "execution_count": 729,
   "metadata": {
    "collapsed": false
   },
   "outputs": [
    {
     "data": {
      "text/latex": [
       "$$\\left[\\begin{matrix}\\phi\\\\\\dot \\phi\\end{matrix}\\right]$$"
      ],
      "text/plain": [
       "⎡    φ    ⎤\n",
       "⎢         ⎥\n",
       "⎣\\dot \\phi⎦"
      ]
     },
     "execution_count": 729,
     "metadata": {},
     "output_type": "execute_result"
    }
   ],
   "source": [
    "state = Matrix([phis, dphis])\n",
    "state"
   ]
  },
  {
   "cell_type": "markdown",
   "metadata": {},
   "source": [
    "## Kalman Filter Prediction Step: System Dynamics\n",
    "\n",
    "But the state is driven by the lean angle rate $\\dot \\phi$ (in radian per second). So the Kalman Filter Equation for the Prediction Step is:\n",
    "\n",
    "$$\\vec x_{k+1} = A \\cdot \\vec x_{k}$$\n",
    "\n",
    "The dynamic matrix $A$ is simply:\n",
    "\n",
    "$$A = \\left[ \\matrix{ 1 & \\Delta T \\\\ 0 & 1 } \\right]$$\n",
    "\n",
    "with $\\Delta T$ as the time between two filtersteps (the sample time of the discrete Kalman Filter)."
   ]
  },
  {
   "cell_type": "code",
   "execution_count": 730,
   "metadata": {
    "collapsed": true
   },
   "outputs": [],
   "source": [
    "Q = np.diag([0.1, 1.0])"
   ]
  },
  {
   "cell_type": "markdown",
   "metadata": {},
   "source": [
    "## Kalman Filter Update Step: Sensors\n",
    "\n",
    "We have two kind of sensors, which are usually available within a 6 Degrees of Freedom Inertial Measurement Unit (6DoF IMU):\n",
    "\n",
    "1. rotationrate sensor\n",
    "2. acceleration sensor\n",
    "\n",
    "The rotationrate sensor is measuring $\\dot \\phi$ directly, the acceleration sensor is measuring the gravitation, so not directly the lean angle $\\phi$. There is a mathematical link between the lean angle and the vertical acceleration $a$ measured by the acceleration sensor. It is the *cosine*. If the bike is upright, the acceleration $a$ is exactly $1g$, if it is $\\phi=90^\\circ$, it is $0g$.\n",
    "\n",
    "$$a = g \\cdot \\cos(90^\\circ - \\phi)$$\n",
    "\n",
    "so the measurement function $z(x)$ is\n",
    "\n",
    "$$\\phi = 90^\\circ - \\arccos \\left(\\frac{a}{g}\\right)$$"
   ]
  },
  {
   "cell_type": "code",
   "execution_count": 731,
   "metadata": {
    "collapsed": false
   },
   "outputs": [
    {
     "data": {
      "text/plain": [
       "<matplotlib.text.Text at 0x11d99e310>"
      ]
     },
     "execution_count": 731,
     "metadata": {},
     "output_type": "execute_result"
    },
    {
     "data": {
      "image/png": "[encoded data removed]",
      "text/plain": [
       "<matplotlib.figure.Figure at 0x11d8ae8d0>"
      ]
     },
     "metadata": {},
     "output_type": "display_data"
    }
   ],
   "source": [
    "a=np.linspace(-9.81, 9.81, 1000)\n",
    "plt.plot(a, 90-np.arccos(a/9.81)*180.0/np.pi)\n",
    "plt.xlabel('vertical Acceleration in m/s2')\n",
    "plt.ylabel('lean angle in Degree')\n",
    "plt.title('Lean angle as function of vertical acceleration (static!!!)')"
   ]
  },
  {
   "cell_type": "markdown",
   "metadata": {},
   "source": [
    "## Load some Measurements"
   ]
  },
  {
   "cell_type": "code",
   "execution_count": 732,
   "metadata": {
    "collapsed": true
   },
   "outputs": [],
   "source": [
    "%matplotlib inline\n",
    "import matplotlib.pyplot as plt"
   ]
  },
  {
   "cell_type": "code",
   "execution_count": 733,
   "metadata": {
    "collapsed": false
   },
   "outputs": [],
   "source": [
    "import pandas as pd"
   ]
  },
  {
   "cell_type": "code",
   "execution_count": 734,
   "metadata": {
    "collapsed": false
   },
   "outputs": [],
   "source": [
    "data = pd.read_csv('2016-09-12-Leaning2.csv', index_col='loggingTime', parse_dates=True)\n",
    "data = data[['accelerometerAccelerationX','gyroRotationY']].dropna()"
   ]
  },
  {
   "cell_type": "code",
   "execution_count": 735,
   "metadata": {
    "collapsed": false
   },
   "outputs": [],
   "source": [
    "dt = 1.0/50.0 # Hz"
   ]
  },
  {
   "cell_type": "code",
   "execution_count": 736,
   "metadata": {
    "collapsed": false
   },
   "outputs": [],
   "source": [
    "t = data.index\n",
    "a_meas = data.accelerometerAccelerationX.values*-9.81 # in m/s2\n",
    "a_meas[a_meas>9.81] = 9.81\n",
    "a_meas[a_meas<-9.81] = -9.81\n",
    "dphi_meas = data.gyroRotationY.values # in rad/s"
   ]
  },
  {
   "cell_type": "code",
   "execution_count": 737,
   "metadata": {
    "collapsed": false
   },
   "outputs": [
    {
     "data": {
      "text/plain": [
       "[<matplotlib.lines.Line2D at 0x11d80b310>]"
      ]
     },
     "execution_count": 737,
     "metadata": {},
     "output_type": "execute_result"
    },
    {
     "data": {
      "image/png": "[encoded data removed]",
      "text/plain": [
       "<matplotlib.figure.Figure at 0x11da07fd0>"
      ]
     },
     "metadata": {},
     "output_type": "display_data"
    }
   ],
   "source": [
    "plt.plot(np.pi/2-np.arccos(a_meas/9.81))\n",
    "plt.plot(dphi_meas)"
   ]
  },
  {
   "cell_type": "markdown",
   "metadata": {},
   "source": [
    "# Kalman Filter\n",
    "\n",
    "![Kalman Filter Step](Kalman-Filter-Step.png)"
   ]
  },
  {
   "cell_type": "code",
   "execution_count": 738,
   "metadata": {
    "collapsed": false
   },
   "outputs": [],
   "source": [
    "x = np.matrix([[0.0],\n",
    "               [0.0]]) # Initial State\n",
    "A = np.matrix([[1.0, dt], [0.0, 1.0]])\n",
    "H = np.diag([1.0, 1.0])\n",
    "P = np.diag([100.0, 1.0])\n",
    "I = np.diag([1.0, 1.0])"
   ]
  },
  {
   "cell_type": "code",
   "execution_count": null,
   "metadata": {
    "collapsed": false
   },
   "outputs": [],
   "source": []
  },
  {
   "cell_type": "code",
   "execution_count": 741,
   "metadata": {
    "collapsed": false
   },
   "outputs": [],
   "source": [
    "x0=[]\n",
    "x1=[]\n",
    "P0=[]\n",
    "dstate=[]\n",
    "for filterstep in range(len(data)):\n",
    " \n",
    "    # Time Update (Prediction)\n",
    "    # ========================\n",
    "    # Project the state ahead\n",
    "    x = A*x\n",
    "    \n",
    "    # Project the error covariance ahead\n",
    "    P = A*P*A.T + Q\n",
    "    \n",
    "    \n",
    "    # Measurement Update (Correction)\n",
    "    # ===============================\n",
    "    # Compute the Kalman Gain\n",
    "    \n",
    "    # Measurement Noise is adaptive:\n",
    "    # Assuming a pretty correct angle measurement, while the\n",
    "    # bike is upright (vertical acceleration is nearly 1g),\n",
    "    # and a pretty bad estimation while the bike is leaning.\n",
    "    # So we make the R value adaptive to the lean angle\n",
    "    # with low values while upright and high values for high\n",
    "    # leaning angles.\n",
    "    adaptivephi = np.abs(np.multiply(1000.0,float(x[0]))+0.001)\n",
    "    R = np.diag([adaptivephi, 0.001])\n",
    "\n",
    "\n",
    "    S = H*P*H.T + R\n",
    "    K = (P*H.T) * np.linalg.pinv(S)\n",
    "\n",
    "    \n",
    "    # Update the estimate via z\n",
    "    Z = np.matrix([[np.pi/2-np.arccos(a_meas[filterstep]/9.81)],\n",
    "                   [dphi_meas[filterstep]]])\n",
    "\n",
    "    y = Z - (H*x)                            # Innovation or Residual\n",
    "    x = x + (K*y)\n",
    "    \n",
    "    # Update the error covariance\n",
    "    P = (I - (K*H))*P\n",
    "\n",
    "\n",
    "\n",
    "    # Save states for Plotting\n",
    "    x0.append(float(x[0]))\n",
    "    x1.append(float(x[1]))\n",
    "    P0.append(float(P[0,0]))"
   ]
  },
  {
   "cell_type": "code",
   "execution_count": 742,
   "metadata": {
    "collapsed": false
   },
   "outputs": [
    {
     "data": {
      "text/plain": [
       "<matplotlib.legend.Legend at 0x11e01cc50>"
      ]
     },
     "execution_count": 742,
     "metadata": {},
     "output_type": "execute_result"
    },
    {
     "data": {
      "image/png": "[encoded data removed]",
      "text/plain": [
       "<matplotlib.figure.Figure at 0x11decc690>"
      ]
     },
     "metadata": {},
     "output_type": "display_data"
    }
   ],
   "source": [
    "plt.plot(t,np.multiply(x0,180.0/np.pi), label=r'$\\phi$')\n",
    "#plt.plot(t,x1, label=r'$\\dot \\phi$')\n",
    "#plt.plot(t, dphi_meas,label=r'$\\dot \\phi$ (ref)', alpha=0.5)\n",
    "plt.title('Estimated Lean Angle')\n",
    "plt.legend()"
   ]
  },
  {
   "cell_type": "code",
   "execution_count": null,
   "metadata": {
    "collapsed": true
   },
   "outputs": [],
   "source": []
  }
 ],
 "metadata": {
  "kernelspec": {
   "display_name": "Python 2",
   "language": "python",
   "name": "python2"
  },
  "language_info": {
   "codemirror_mode": {
    "name": "ipython",
    "version": 2
   },
   "file_extension": ".py",
   "mimetype": "text/x-python",
   "name": "python",
   "nbconvert_exporter": "python",
   "pygments_lexer": "ipython2",
   "version": "2.7.12"
  }
 },
 "nbformat": 4,
 "nbformat_minor": 0
}
