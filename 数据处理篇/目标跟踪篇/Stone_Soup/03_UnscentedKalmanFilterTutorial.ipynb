{
  "cells": [
    {
      "cell_type": "markdown",
      "metadata": {},
      "source": [
        "\n",
        "# 3 - Non-linear models: unscented Kalman filter\n"
      ]
    },
    {
      "cell_type": "markdown",
      "metadata": {},
      "source": [
        "The previous tutorial showed how the extended Kalman filter propagates estimates using a\n",
        "first-order linearisation of the transition and/or sensor models. Clearly there are limits to\n",
        "such an approximation, and in situations where models deviate significantly from linearity,\n",
        "performance can suffer.\n",
        "\n",
        "In such situations it can be beneficial to seek alternative approximations. One such comes via\n",
        "the so-called *unscented transform* (UT). In this we characterise a Gaussian distribution using a\n",
        "series of weighted samples, *sigma points*, and propagate these through the non-linear function.\n",
        "A transformed Gaussian is then reconstructed from the new sigma points. This forms the basis for\n",
        "the unscented Kalman filter (UKF).\n",
        "\n",
        "This tutorial will first run a simulation in an entirely equivalent fashion to the previous\n",
        "(EKF) tutorial. We'll then look into more precise details concerning the UT and try and develop\n",
        "some intuition into the reasons for its effectiveness.\n",
        "\n"
      ]
    },
    {
      "cell_type": "markdown",
      "metadata": {},
      "source": [
        "## Background\n",
        "Limited detail on how Stone Soup does the UKF is provided below. See Julier et al. (2000) [#]_\n",
        "for fuller, better details of the UKF.\n",
        "\n",
        "For dimension $D$, a set of $2 D + 1$ sigma points are calculated at:\n",
        "\n",
        "\\begin{align}\\mathbf{s}_j &= \\mathbf{x}, \\ \\ j = 0 \\\\\n",
        "          \\mathbf{s}_j &= \\mathbf{x} + \\alpha \\sqrt{\\kappa} A_j, \\ \\ j = 1, ..., D \\\\\n",
        "          \\mathbf{s}_j &= \\mathbf{x} - \\alpha \\sqrt{\\kappa} A_j, \\ \\ j = D + 1, ..., 2 D\\end{align}\n",
        "\n",
        "where $A_j$ is the $j$ th column of $A$, a *square root matrix* of the\n",
        "covariance, $P = AA^T$, of the state to be approximated, and $\\mathbf{x}$ is its\n",
        "mean.\n",
        "\n",
        "Two sets of weights, mean and covariance, are calculated:\n",
        "\n",
        "\\begin{align}W^m_0 &= \\frac{\\lambda}{c} \\\\\n",
        "          W^c_0 &= \\frac{\\lambda}{c} + (1 - \\alpha^2 + \\beta) \\\\\n",
        "          W^m_j &= W^c_j = \\frac{1}{2 c}\\end{align}\n",
        "\n",
        "where $c = \\alpha^2 (D + \\kappa)$, $\\lambda = c - D$. The parameters\n",
        "$\\alpha, \\ \\beta, \\ \\kappa$ are user-selectable parameters with default values of\n",
        "$0.5, \\ 2, \\ 3 - D$.\n",
        "\n",
        "After the sigma points are transformed $\\mathbf{s^{\\prime}} = f( \\mathbf{s} )$, the\n",
        "distribution is reconstructed as:\n",
        "\n",
        "\\begin{align}\\mathbf{x}^\\prime &= \\sum\\limits^{2 D}_{0} W^{m}_j \\mathbf{s}^{\\prime}_j \\\\\n",
        "          P^\\prime &= (\\mathbf{s}^{\\prime} - \\mathbf{x}^\\prime) \\, diag(W^c) \\,\n",
        "          (\\mathbf{s}^{\\prime} - \\mathbf{x}^\\prime)^T + Q\\end{align}\n",
        "\n",
        "The posterior mean and covariance are accurate to the 2nd order Taylor expansion for any\n",
        "non-linear model. [#]_\n",
        "\n"
      ]
    },
    {
      "cell_type": "markdown",
      "metadata": {},
      "source": [
        "## Nearly-constant velocity example\n",
        "This example is equivalent to that in the previous (EKF) tutorial. As with that one, you are\n",
        "invited to play with the parameters and watch what happens.\n",
        "\n"
      ]
    },
    {
      "cell_type": "code",
      "execution_count": null,
      "metadata": {
        "collapsed": false
      },
      "outputs": [],
      "source": [
        "# Some general imports and initialise time\n",
        "import numpy as np\n",
        "\n",
        "from datetime import datetime, timedelta\n",
        "start_time = datetime.now().replace(microsecond=0)"
      ]
    },
    {
      "cell_type": "code",
      "execution_count": null,
      "metadata": {
        "collapsed": false
      },
      "outputs": [],
      "source": [
        "np.random.seed(1991)"
      ]
    },
    {
      "cell_type": "markdown",
      "metadata": {},
      "source": [
        "### Create ground truth\n",
        "\n",
        "\n"
      ]
    },
    {
      "cell_type": "code",
      "execution_count": null,
      "metadata": {
        "collapsed": false
      },
      "outputs": [],
      "source": [
        "from stonesoup.types.groundtruth import GroundTruthPath, GroundTruthState\n",
        "from stonesoup.models.transition.linear import CombinedLinearGaussianTransitionModel, \\\n",
        "                                               ConstantVelocity\n",
        "\n",
        "transition_model = CombinedLinearGaussianTransitionModel([ConstantVelocity(0.05),\n",
        "                                                          ConstantVelocity(0.05)])\n",
        "timesteps = [start_time]\n",
        "truth = GroundTruthPath([GroundTruthState([0, 1, 0, 1], timestamp=timesteps[0])])\n",
        "\n",
        "for k in range(1, 21):\n",
        "    timesteps.append(start_time+timedelta(seconds=k))\n",
        "    truth.append(GroundTruthState(\n",
        "        transition_model.function(truth[k-1], noise=True, time_interval=timedelta(seconds=1)),\n",
        "        timestamp=timesteps[k]))"
      ]
    },
    {
      "cell_type": "markdown",
      "metadata": {},
      "source": [
        "Set-up plot to render ground truth, as before.\n",
        "\n"
      ]
    },
    {
      "cell_type": "code",
      "execution_count": null,
      "metadata": {
        "collapsed": false
      },
      "outputs": [],
      "source": [
        "from stonesoup.plotter import AnimatedPlotterly\n",
        "plotter = AnimatedPlotterly(timesteps, tail_length=0.3)\n",
        "plotter.plot_ground_truths(truth, [0, 2])\n",
        "plotter.fig"
      ]
    },
    {
      "cell_type": "markdown",
      "metadata": {},
      "source": [
        "### Simulate the measurement\n",
        "\n",
        "\n"
      ]
    },
    {
      "cell_type": "code",
      "execution_count": null,
      "metadata": {
        "collapsed": false
      },
      "outputs": [],
      "source": [
        "from stonesoup.models.measurement.nonlinear import CartesianToBearingRange\n",
        "# Sensor position\n",
        "sensor_x = 50\n",
        "sensor_y = 0\n",
        "\n",
        "# Make noisy measurement (with bearing variance = 0.2 degrees).\n",
        "measurement_model = CartesianToBearingRange(ndim_state=4,\n",
        "                                            mapping=(0, 2),\n",
        "                                            noise_covar=np.diag([np.radians(0.2), 1]),\n",
        "                                            translation_offset=np.array([[sensor_x], [sensor_y]]))"
      ]
    },
    {
      "cell_type": "code",
      "execution_count": null,
      "metadata": {
        "collapsed": false
      },
      "outputs": [],
      "source": [
        "from stonesoup.types.detection import Detection\n",
        "\n",
        "# Make sensor that produces the noisy measurements.\n",
        "measurements = []\n",
        "for state in truth:\n",
        "    measurement = measurement_model.function(state, noise=True)\n",
        "    measurements.append(Detection(measurement, timestamp=state.timestamp,\n",
        "                                  measurement_model=measurement_model))\n",
        "\n",
        "# Plot the measurements\n",
        "# Where the model is nonlinear the plotting function uses the inverse function to get coordinates\n",
        "\n",
        "plotter.plot_measurements(measurements, [0, 2])\n",
        "plotter.fig"
      ]
    },
    {
      "cell_type": "markdown",
      "metadata": {},
      "source": [
        "### Create unscented Kalman filter components\n",
        "Note that the transition of the target state is linear, so we have no real need for a\n",
        ":class:`~.UnscentedKalmanPredictor`. But we'll use one anyway, if nothing else to demonstrate\n",
        "that a linear model won't break anything.\n",
        "\n"
      ]
    },
    {
      "cell_type": "code",
      "execution_count": null,
      "metadata": {
        "collapsed": false
      },
      "outputs": [],
      "source": [
        "from stonesoup.predictor.kalman import UnscentedKalmanPredictor\n",
        "predictor = UnscentedKalmanPredictor(transition_model)\n",
        "# Create :class:`~.UnscentedKalmanUpdater`\n",
        "from stonesoup.updater.kalman import UnscentedKalmanUpdater\n",
        "unscented_updater = UnscentedKalmanUpdater(measurement_model)  # Keep alpha as default = 0.5"
      ]
    },
    {
      "cell_type": "markdown",
      "metadata": {},
      "source": [
        "### Run the Unscented Kalman Filter\n",
        "\n",
        "Create a prior\n",
        "\n"
      ]
    },
    {
      "cell_type": "code",
      "execution_count": null,
      "metadata": {
        "collapsed": false
      },
      "outputs": [],
      "source": [
        "from stonesoup.types.state import GaussianState\n",
        "prior = GaussianState([[0], [1], [0], [1]], np.diag([1.5, 0.5, 1.5, 0.5]), timestamp=start_time)"
      ]
    },
    {
      "cell_type": "markdown",
      "metadata": {},
      "source": [
        "Populate the track\n",
        "\n"
      ]
    },
    {
      "cell_type": "code",
      "execution_count": null,
      "metadata": {
        "collapsed": false
      },
      "outputs": [],
      "source": [
        "from stonesoup.types.hypothesis import SingleHypothesis\n",
        "from stonesoup.types.track import Track\n",
        "\n",
        "track = Track()\n",
        "for measurement in measurements:\n",
        "    prediction = predictor.predict(prior, timestamp=measurement.timestamp)\n",
        "    hypothesis = SingleHypothesis(prediction, measurement)\n",
        "    post = unscented_updater.update(hypothesis)\n",
        "    track.append(post)\n",
        "    prior = track[-1]"
      ]
    },
    {
      "cell_type": "markdown",
      "metadata": {},
      "source": [
        "And plot\n",
        "\n"
      ]
    },
    {
      "cell_type": "code",
      "execution_count": null,
      "metadata": {
        "collapsed": false
      },
      "outputs": [],
      "source": [
        "plotter.plot_tracks(track, [0, 2], uncertainty=True)\n",
        "plotter.fig"
      ]
    },
    {
      "cell_type": "markdown",
      "metadata": {},
      "source": [
        "## The UT in slightly more depth\n",
        "Now try and get a sense of what actually happens to the uncertainty when a non-linear combination\n",
        "of functions happens. Instead of deriving this analytically (and potentially getting bogged-down\n",
        "in the maths), let's just use a sampling method.\n",
        "We can start with a prediction, which is Gauss-distributed in state space, that we will use to\n",
        "make our measurement predictions from.\n",
        "\n"
      ]
    },
    {
      "cell_type": "code",
      "execution_count": null,
      "metadata": {
        "collapsed": false
      },
      "outputs": [],
      "source": [
        "from stonesoup.types.prediction import GaussianStatePrediction\n",
        "prediction = GaussianStatePrediction(state_vector=[[0], [0], [20], [0]],\n",
        "                                     covar=np.diag([1.5, 0.5, 1.5, 0.5]),\n",
        "                                     timestamp=datetime.now())"
      ]
    },
    {
      "cell_type": "markdown",
      "metadata": {},
      "source": [
        "We'll recapitulate the fact that the sensor position is where it previously was. But this time\n",
        "we'll make the measurement much noisier.\n",
        "\n"
      ]
    },
    {
      "cell_type": "code",
      "execution_count": null,
      "metadata": {
        "collapsed": false
      },
      "outputs": [],
      "source": [
        "sensor_x = 0\n",
        "sensor_y = 0\n",
        "\n",
        "measurement_model = CartesianToBearingRange(\n",
        "    ndim_state=4,\n",
        "    mapping=(0, 2),\n",
        "    noise_covar=np.diag([np.radians(5), 0.1]),  # bearing variance = 5 degrees (accurate range)\n",
        "    translation_offset=np.array([[sensor_x], [sensor_y]])\n",
        ")"
      ]
    },
    {
      "cell_type": "markdown",
      "metadata": {},
      "source": [
        "The next tutorial will go into much more detail on sampling methods. For the moment we'll just\n",
        "assert that we're generating 2000 points from the state prediction above.\n",
        "\n",
        "We need these imports and parameters:\n",
        "\n"
      ]
    },
    {
      "cell_type": "code",
      "execution_count": null,
      "metadata": {
        "collapsed": false
      },
      "outputs": [],
      "source": [
        "from scipy.stats import multivariate_normal\n",
        "\n",
        "from stonesoup.types.particle import Particle\n",
        "from stonesoup.types.numeric import Probability  # Similar to a float type\n",
        "from stonesoup.types.state import ParticleState\n",
        "\n",
        "number_particles = 2000\n",
        "\n",
        "# Sample from the Gaussian prediction distribution\n",
        "samples = multivariate_normal.rvs(prediction.state_vector.ravel(),\n",
        "                                  prediction.covar,\n",
        "                                  size=number_particles)\n",
        "particles = [\n",
        "    Particle(sample.reshape(-1, 1), weight=Probability(1/number_particles)) for sample in samples]\n",
        "# Create prior particle state.\n",
        "pred_samples = ParticleState(None, particle_list=particles, timestamp=start_time)\n",
        "\n",
        "from stonesoup.resampler.particle import SystematicResampler\n",
        "resampler = SystematicResampler()\n",
        "from stonesoup.updater.particle import ParticleUpdater\n",
        "pupdater = ParticleUpdater(measurement_model, resampler)\n",
        "# print(pred_samples)\n",
        "predict_meas_samples = pupdater.predict_measurement(pred_samples)"
      ]
    },
    {
      "cell_type": "markdown",
      "metadata": {},
      "source": [
        "Don't worry what all this means for the moment. It's a convenient way of showing the 'true'\n",
        "distribution of the predicted measurement - which is rendered as a blue cloud. Note that\n",
        "no noise is added by the :meth:`~.UnscentedKalmanUpdater.predict_measurement` method so we add\n",
        "some noise below. This is additive Gaussian in the sensor coordinates.\n",
        "\n"
      ]
    },
    {
      "cell_type": "code",
      "execution_count": null,
      "metadata": {
        "collapsed": false
      },
      "outputs": [],
      "source": [
        "from matplotlib import pyplot as plt\n",
        "fig = plt.figure(figsize=(10, 6), tight_layout=True)\n",
        "ax = fig.add_subplot(1, 1, 1, polar=True)\n",
        "ax.set_ylim(0, 30)\n",
        "ax.set_xlim(0, np.radians(180))\n",
        "\n",
        "data = np.array([particle.state_vector for particle in predict_meas_samples.particles])\n",
        "noise = multivariate_normal.rvs(np.array([0, 0]), measurement_model.covar(), size=len(data))\n",
        "\n",
        "ax.plot(data[:, 0].ravel()+noise[:, 0],\n",
        "        data[:, 1].ravel()+noise[:, 1],\n",
        "        linestyle='',\n",
        "        marker=\".\",\n",
        "        markersize=1.5,\n",
        "        alpha=0.4,\n",
        "        label=\"Particles\")\n",
        "ax.legend()"
      ]
    },
    {
      "cell_type": "markdown",
      "metadata": {},
      "source": [
        "We can now see what happens when we create EKF and UKF updaters and compare their effect.\n",
        "\n",
        "Create updaters:\n",
        "\n"
      ]
    },
    {
      "cell_type": "code",
      "execution_count": null,
      "metadata": {
        "collapsed": false
      },
      "outputs": [],
      "source": [
        "from stonesoup.updater.kalman import UnscentedKalmanUpdater, ExtendedKalmanUpdater\n",
        "unscented_updater = UnscentedKalmanUpdater(measurement_model, alpha=0.5, beta=4)\n",
        "extended_updater = ExtendedKalmanUpdater(measurement_model)\n",
        "\n",
        "# Get predicted measurements from the state prediction.\n",
        "ukf_pred_meas = unscented_updater.predict_measurement(prediction)\n",
        "ekf_pred_meas = extended_updater.predict_measurement(prediction)"
      ]
    },
    {
      "cell_type": "markdown",
      "metadata": {},
      "source": [
        "Plot UKF (red) and EKF (green) predicted measurement distributions.\n",
        "\n"
      ]
    },
    {
      "cell_type": "code",
      "execution_count": null,
      "metadata": {
        "collapsed": false
      },
      "outputs": [],
      "source": [
        "# Plot UKF's predicted measurement distribution\n",
        "from matplotlib.patches import Ellipse\n",
        "from stonesoup.plotter import Plotter\n",
        "w, v = np.linalg.eig(ukf_pred_meas.covar)\n",
        "max_ind = np.argmax(w)\n",
        "min_ind = np.argmin(w)\n",
        "orient = np.arctan2(v[1, max_ind], v[0, max_ind])\n",
        "ukf_ellipse = Ellipse(xy=(ukf_pred_meas.state_vector[0], ukf_pred_meas.state_vector[1]),\n",
        "                      width=2*np.sqrt(w[max_ind]), height=2*np.sqrt(w[min_ind]),\n",
        "                      angle=np.rad2deg(orient),\n",
        "                      alpha=0.4,\n",
        "                      color='r',)\n",
        "ax.add_artist(ukf_ellipse)\n",
        "\n",
        "\n",
        "# Plot EKF's predicted measurement distribution\n",
        "w, v = np.linalg.eig(ekf_pred_meas.covar)\n",
        "max_ind = np.argmax(w)\n",
        "min_ind = np.argmin(w)\n",
        "orient = np.arctan2(v[1, max_ind], v[0, max_ind])\n",
        "ekf_ellipse = Ellipse(xy=(ekf_pred_meas.state_vector[0], ekf_pred_meas.state_vector[1]),\n",
        "                      width=2*np.sqrt(w[max_ind]), height=2*np.sqrt(w[min_ind]),\n",
        "                      angle=np.rad2deg(orient),\n",
        "                      alpha=0.5,\n",
        "                      color='g',)\n",
        "ax.add_artist(ekf_ellipse)\n",
        "\n",
        "# Add ellipses to legend\n",
        "label_list = [\"UKF Prediction\", \"EKF Prediction\"]\n",
        "color_list = ['r', 'g']\n",
        "Plotter.ellipse_legend(ax, label_list, color_list)\n",
        "fig"
      ]
    },
    {
      "cell_type": "markdown",
      "metadata": {},
      "source": [
        "You may have to spend some time fiddling with the parameters to see major differences between the\n",
        "EKF and UKF. Indeed the point to make is not that there is any great magic about the UKF. Its\n",
        "power is that it harnesses some extra free parameters to give a more flexible description of the\n",
        "transformed distribution.\n",
        "\n"
      ]
    },
    {
      "cell_type": "markdown",
      "metadata": {},
      "source": [
        "## Key points\n",
        "1. The unscented Kalman filter offers a powerful alternative to the EKF when undertaking tracking\n",
        "   in non-linear regimes.\n",
        "\n"
      ]
    },
    {
      "cell_type": "markdown",
      "metadata": {},
      "source": [
        "## References\n",
        ".. [#] Julier S., Uhlmann J., Durrant-Whyte H.F. 2000, A new method for the nonlinear\n",
        "       transformation of means and covariances in filters and estimators,\" in IEEE Transactions\n",
        "       on Automatic Control, vol. 45, no. 3, pp. 477-482, doi: 10.1109/9.847726.\n",
        ".. [#] Julier S.J. 2002, The scaled unscented transformation, Proceedings of the 2002 American\n",
        "       Control Conference (IEEE Cat. No.CH37301), Anchorage, AK, USA, 2002, pp. 4555-4559 vol.6,\n",
        "       doi: 10.1109/ACC.2002.1025369.\n",
        "\n"
      ]
    }
  ],
  "metadata": {
    "kernelspec": {
      "display_name": "Python 3",
      "language": "python",
      "name": "python3"
    },
    "language_info": {
      "codemirror_mode": {
        "name": "ipython",
        "version": 3
      },
      "file_extension": ".py",
      "mimetype": "text/x-python",
      "name": "python",
      "nbconvert_exporter": "python",
      "pygments_lexer": "ipython3",
      "version": "3.9.7"
    }
  },
  "nbformat": 4,
  "nbformat_minor": 0
}
