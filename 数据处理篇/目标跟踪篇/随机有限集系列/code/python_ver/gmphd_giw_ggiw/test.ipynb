{
 "cells": [
  {
   "cell_type": "code",
   "execution_count": 15,
   "metadata": {},
   "outputs": [
    {
     "name": "stdout",
     "output_type": "stream",
     "text": [
      "[-0.93580816  0.09609338]\n"
     ]
    }
   ],
   "source": [
    "import numpy as np \n",
    "\n",
    "R_ = np.array([[1,0],\n",
    "               [0,1]])\n",
    "\n",
    "r_ = np.random.multivariate_normal(np.zeros(2), R_)\n",
    "print(r_)"
   ]
  }
 ],
 "metadata": {
  "kernelspec": {
   "display_name": "chenghao_env",
   "language": "python",
   "name": "python3"
  },
  "language_info": {
   "codemirror_mode": {
    "name": "ipython",
    "version": 3
   },
   "file_extension": ".py",
   "mimetype": "text/x-python",
   "name": "python",
   "nbconvert_exporter": "python",
   "pygments_lexer": "ipython3",
   "version": "3.8.0"
  }
 },
 "nbformat": 4,
 "nbformat_minor": 2
}
