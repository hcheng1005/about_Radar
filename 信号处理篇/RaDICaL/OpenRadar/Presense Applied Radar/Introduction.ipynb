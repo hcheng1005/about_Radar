{
 "cells": [
  {
   "cell_type": "markdown",
   "metadata": {},
   "source": [
    "<img src=\"./assets/logo.png\" width=\"50\" align=\"left\"> \n",
    "\n",
    "# INTRODUCTION\n",
    "\n",
    "***\n",
    "\n",
    "## An Intro to the Intro\n",
    "\n",
    "A little while back, a small group of UIUC students formed a team while under the support of a newly founded incubator named Alchemy. They started to focus on the area of radar, a special type of radar called MIMO mmWave radar to be precise. We now go by PreSense, a deep tech startup making new tools and software for dealing with this special type of radar. We started out with minimal knowledge about radar. As we learned, it was apparent the right resources were hard to find, and applying what we learned was even more difficult. \n",
    "\n",
    "Now we want to go back and create resources that will help people get started."
   ]
  },
  {
   "cell_type": "markdown",
   "metadata": {},
   "source": [
    "## Some Motivation on Why This Series May be Important\n",
    "\n",
    "True, radar has been out for a long time, but popularity has recently encountered an resurgence. One example is the automotive industry needs many sensors to build a safe and successful product. Each sensor has its own strengths and radar fits in here for many reasons. Is the driver (or autonomous system) going to hit the car in front of us? We have a reliable way of measuring this through the doppler effect, which a radar takes advantage of. What if we are driving on a highway during the night? Well, now we can't use our camera for reliable detections, so let's turn to radar once again since radar is not a sensor affected by lighting conditions."
   ]
  },
  {
   "cell_type": "markdown",
   "metadata": {},
   "source": [
    "## What This Series Will Offer\n",
    "\n",
    "Our goal here is to give anybody and everybody access to resources for using radar data in an applied sense. We will introduce the algorithms and the conventions of radar along with examples of using them on real data. This series is written for working with Python, but the knowledge should be transferable to other languages."
   ]
  },
  {
   "cell_type": "markdown",
   "metadata": {},
   "source": [
    "## Vocabulary\n",
    "\n",
    "We will try and stay consistent with our naming conventions, but will most likely make mistakes during the process. Any words that are not common knowledge/require radar knowledge/specific to this book *should* be defined prior to being used. Let us know if we pull something out of thin air and it will be fixed.\n",
    "\n",
    "Some starting terminology:\n",
    "\n",
    "- **Module**: Low level notebooks explaining how one subject of radar works.\n",
    "- **Section**: Overarching containers that group together related modules.\n"
   ]
  },
  {
   "cell_type": "markdown",
   "metadata": {},
   "source": [
    "## How This Series is Organized\n",
    "\n",
    "Here are some of the sections that are currently done/in progress/planned. We will definitely modify this list as time goes on.\n",
    "1. basics - Modules to help getting started with basics of radar and terminology. For this one we recommend taking a look at the TI mmWave Training Series, as we tried to make parallels between the two series. The TI Training Series focuses heavily on the mathematical foudation of how radar works. <br>\n",
    "Link - https://training.ti.com/mmwave-training-series\n",
    "2. detection - Modules about finding an object within the radar's field of view.\n",
    "3. beamforming - Modules explaining what happens when a radar is built with a MIMO (aka multiple input multiple output) architecture and how we can take advantage of it.\n",
    "4. noise - Modules to learn about working with noise. Noise is unavoidable, so we need to figure out ways to either work around it or directly deal with it.\n",
    "5. clustering - Modules explaining how to know when two points are close enough together to be considered \"similar\".\n",
    "6. ..."
   ]
  },
  {
   "cell_type": "markdown",
   "metadata": {},
   "source": [
    "***\n",
    "\n",
    "#### Contributors\n",
    "- Dash Kosaka\n",
    "\n",
    "#### Questions, Issues, etc.?\n",
    "Contact by...\n",
    "- email - presenseradar@gmail.com\n",
    "- github - https://github.com/presenseradar/openradar"
   ]
  }
 ],
 "metadata": {
  "kernelspec": {
   "display_name": "Python 3",
   "language": "python",
   "name": "python3"
  },
  "language_info": {
   "codemirror_mode": {
    "name": "ipython",
    "version": 3
   },
   "file_extension": ".py",
   "mimetype": "text/x-python",
   "name": "python",
   "nbconvert_exporter": "python",
   "pygments_lexer": "ipython3",
   "version": "3.7.3"
  }
 },
 "nbformat": 4,
 "nbformat_minor": 2
}
