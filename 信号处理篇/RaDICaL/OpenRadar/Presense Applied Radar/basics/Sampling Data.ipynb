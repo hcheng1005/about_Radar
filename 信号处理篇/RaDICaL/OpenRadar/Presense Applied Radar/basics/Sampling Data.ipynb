{
 "cells": [
  {
   "cell_type": "markdown",
   "metadata": {},
   "source": [
    "<img src=\"../assets/logo.png\" width=\"50\" align=\"left\"> \n",
    "\n",
    "# Sampling Data\n",
    "\n",
    "***\n",
    "\n",
    "#### Prerequesites\n",
    "- NA"
   ]
  },
  {
   "cell_type": "code",
   "execution_count": 1,
   "metadata": {},
   "outputs": [],
   "source": [
    "# Imports\n",
    "import numpy as np                  # Scientific Computing Library\n",
    "import matplotlib.pyplot as plt     # Basic Visualization Library"
   ]
  },
  {
   "cell_type": "markdown",
   "metadata": {},
   "source": [
    "## How A Radar Reads Data\n",
    "\n",
    "On a high level, radar works by sending out known signals called \"chirps\" using one or more transmitters. It then waits for these signals to be interrupted by objects in the way and bounce back to the radar. The radar uses it receiver(s) to read the signals as analog values and digitize them into data types we can work with (ex. int16) with the help of an ADC.\n",
    "\n",
    "This mini module will shortly explain the format."
   ]
  },
  {
   "cell_type": "markdown",
   "metadata": {},
   "source": [
    "## Organizing the Data\n",
    "\n",
    "At the smallest end, we have our ADC samples.\n",
    "\n",
    "An ADC sample in this context is the literal conversion from the received EM wave to a digital signal.\n",
    "\n",
    "ADC samples are stored in sequences that map to a single chirp. For example, after sending out a chirp, the radar can be configured to \"test\" received signal 256 times over a set amount of time with equally spaced sample intervals.\n",
    "\n",
    "A single frame holds the information received by emitting a group of multiple chirps from the radar. Basically, after sampling a single chirp, we can sample a additional chirps and stack the result as many times as we want."
   ]
  },
  {
   "cell_type": "markdown",
   "metadata": {},
   "source": [
    "## Looking Forward\n",
    "\n",
    "Since you now have a basic understanding of the data that we will be working with, we can now move on to using it. In the next few \"basics\" modules, we will talk about how to extract vital information from this data. "
   ]
  },
  {
   "cell_type": "markdown",
   "metadata": {},
   "source": [
    "***\n",
    "\n",
    "#### Contributors\n",
    "- Dash Kosaka\n",
    "\n",
    "#### Questions, Issues, etc.?\n",
    "Contact us at presense@gmail.com"
   ]
  }
 ],
 "metadata": {
  "kernelspec": {
   "display_name": "Python 3",
   "language": "python",
   "name": "python3"
  },
  "language_info": {
   "codemirror_mode": {
    "name": "ipython",
    "version": 3
   },
   "file_extension": ".py",
   "mimetype": "text/x-python",
   "name": "python",
   "nbconvert_exporter": "python",
   "pygments_lexer": "ipython3",
   "version": "3.7.3"
  }
 },
 "nbformat": 4,
 "nbformat_minor": 2
}
