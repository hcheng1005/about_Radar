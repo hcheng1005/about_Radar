{
 "cells": [
  {
   "cell_type": "markdown",
   "metadata": {},
   "source": [
    "# Using data from V1 Radar\n",
    "\n",
    "We have a few variants of the V1 radar.\n",
    "- Tupperwear mount\n",
    "- Printed mount\n",
    "- Printed mount With tracking camera"
   ]
  },
  {
   "cell_type": "code",
   "execution_count": null,
   "metadata": {},
   "outputs": [],
   "source": [
    "#hide\n",
    "%load_ext autoreload\n",
    "%autoreload 2"
   ]
  },
  {
   "cell_type": "code",
   "execution_count": null,
   "metadata": {},
   "outputs": [],
   "source": [
    "import radicalsdk.radar.v1_constants as radarv1"
   ]
  },
  {
   "cell_type": "code",
   "execution_count": null,
   "metadata": {},
   "outputs": [
    {
     "name": "stdout",
     "output_type": "stream",
     "text": [
      "F matrix:\n",
      "[[922.34851074   0.         649.70727539]\n",
      " [  0.         922.69921875 357.53579712]\n",
      " [  0.           0.           1.        ]]\n",
      "P matrix:\n",
      "[[-4.70946484e-16 -3.28722102e-17  3.66356745e-02 -3.66356745e-02]\n",
      " [ 7.88278717e-17 -4.14233570e-16  6.89436657e-01 -6.89436657e-01]\n",
      " [ 1.78154456e-18  5.03213532e-17  1.52757728e-01 -1.52757728e-01]]\n"
     ]
    }
   ],
   "source": [
    "print(f\"F matrix:\\n{radarv1.TupperwearD435.F}\")\n",
    "print(f\"P matrix:\\n{radarv1.TupperwearD435.P}\")"
   ]
  },
  {
   "cell_type": "code",
   "execution_count": null,
   "metadata": {},
   "outputs": [],
   "source": []
  }
 ],
 "metadata": {
  "kernelspec": {
   "display_name": "Python 3",
   "language": "python",
   "name": "python3"
  }
 },
 "nbformat": 4,
 "nbformat_minor": 4
}
