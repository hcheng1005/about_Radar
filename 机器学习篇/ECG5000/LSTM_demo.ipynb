{
 "cells": [
  {
   "cell_type": "markdown",
   "metadata": {},
   "source": [
    "# LSTM\n",
    "\n",
    "https://colah.github.io/posts/2015-08-Understanding-LSTMs/"
   ]
  },
  {
   "cell_type": "markdown",
   "metadata": {},
   "source": [
    "## Step0：定义LSTM模型类、制作Dataloader"
   ]
  },
  {
   "cell_type": "code",
   "execution_count": 234,
   "metadata": {},
   "outputs": [],
   "source": [
    "import torch\n",
    "import torch.nn as nn\n",
    "import torch.nn.functional as F\n",
    "from torch.utils.data import Dataset, DataLoader\n",
    "\n",
    "class CustomDataset(Dataset):\n",
    "    def __init__(self, data, labels):\n",
    "        self.data = data\n",
    "        self.labels = labels\n",
    "    \n",
    "    def __len__(self):\n",
    "        return len(self.data)\n",
    "    \n",
    "    def __getitem__(self, index):\n",
    "        x = self.data[index]\n",
    "        y = self.labels[index]\n",
    "        return x, y\n",
    "    \n",
    "\n",
    "class ECGClassifier(nn.Module):\n",
    "    def __init__(self, input_dim, hidden_dim, num_layers, num_classes):\n",
    "        super(ECGClassifier, self).__init__()\n",
    "        self.lstm = nn.LSTM(input_dim, hidden_dim, num_layers, batch_first=True)\n",
    "        self.fc = nn.Linear(hidden_dim, num_classes)\n",
    "\n",
    "    def forward(self, x):\n",
    "        # LSTM 输出大小：(batch_size, seq_length, hidden_dim)\n",
    "        out, (hn, cn) = self.lstm(x)\n",
    "        # 选择最后一个时间步的输出\n",
    "        out = out[:, -1, :]\n",
    "        out = self.fc(out)\n",
    "        return out"
   ]
  },
  {
   "cell_type": "markdown",
   "metadata": {},
   "source": [
    "## Step2：定义模型、损失函数、优化器以及训练数据"
   ]
  },
  {
   "cell_type": "code",
   "execution_count": 235,
   "metadata": {},
   "outputs": [
    {
     "name": "stdout",
     "output_type": "stream",
     "text": [
      "Using cuda device\n"
     ]
    }
   ],
   "source": [
    "import numpy as np \n",
    "\n",
    "# 检查CUDA是否可用，如果可用则使用CUDA，否则使用CPU\n",
    "device = torch.device(\"cuda\" if torch.cuda.is_available() else \"cpu\")\n",
    "print(f\"Using {device} device\")\n",
    "\n",
    "# 读取数据集\n",
    "data_train = np.loadtxt('./data/ECG5000_TEST.txt')\n",
    "\n",
    "# 获取data和label\n",
    "data, labels = data_train[:, 1:], data_train[:, 0]-1.0 # 这里-1.0是为了将标签从0开始\n",
    "\n",
    "# 转换成tensor张量\n",
    "data = torch.tensor(data, dtype=torch.float32).unsqueeze(1)\n",
    "labels = torch.tensor(labels, dtype=torch.long)\n",
    "\n",
    "# 使用 np.unique 获取所有唯一标签\n",
    "unique_labels = np.unique(labels)\n",
    "\n",
    "# 获取唯一标签的数量\n",
    "num_unique_labels = len(unique_labels)\n",
    "# print(num_unique_labels)\n",
    "\n",
    "# Create dataset and dataloader\n",
    "dataset = CustomDataset(data, labels)\n",
    "train_loader = DataLoader(dataset, batch_size=16, shuffle=True)\n",
    "\n",
    "# model = ECGClassifier(input_dim=140, hidden_dim=64, num_layers=4, num_classes=num_unique_labels)\n",
    "model = ECGClassifier(input_dim=140, hidden_dim=2, num_layers=1, num_classes=num_unique_labels)\n",
    "\n",
    "model.to(device)\n",
    "\n",
    "# 定义损失函数\n",
    "criterion = nn.CrossEntropyLoss()\n",
    "\n",
    "# 定义优化器\n",
    "optimizer = torch.optim.Adam(model.parameters(), lr=0.001)"
   ]
  },
  {
   "cell_type": "markdown",
   "metadata": {},
   "source": [
    "## Step3：开始模型训练"
   ]
  },
  {
   "cell_type": "code",
   "execution_count": 236,
   "metadata": {},
   "outputs": [
    {
     "name": "stdout",
     "output_type": "stream",
     "text": [
      "Epoch [1/20], Step [100/282], Loss: 1.2736\n",
      "Epoch [1/20], Step [200/282], Loss: 1.1051\n",
      "Epoch [2/20], Step [100/282], Loss: 0.8283\n",
      "Epoch [2/20], Step [200/282], Loss: 0.7619\n",
      "Epoch [3/20], Step [100/282], Loss: 0.5784\n",
      "Epoch [3/20], Step [200/282], Loss: 0.2443\n",
      "Epoch [4/20], Step [100/282], Loss: 0.6046\n",
      "Epoch [4/20], Step [200/282], Loss: 0.2762\n",
      "Epoch [5/20], Step [100/282], Loss: 0.1754\n",
      "Epoch [5/20], Step [200/282], Loss: 0.1188\n",
      "Epoch [6/20], Step [100/282], Loss: 0.4064\n",
      "Epoch [6/20], Step [200/282], Loss: 0.5793\n",
      "Epoch [7/20], Step [100/282], Loss: 0.6373\n",
      "Epoch [7/20], Step [200/282], Loss: 0.0842\n",
      "Epoch [8/20], Step [100/282], Loss: 0.4015\n",
      "Epoch [8/20], Step [200/282], Loss: 0.0794\n",
      "Epoch [9/20], Step [100/282], Loss: 0.2316\n",
      "Epoch [9/20], Step [200/282], Loss: 0.2502\n",
      "Epoch [10/20], Step [100/282], Loss: 0.5445\n",
      "Epoch [10/20], Step [200/282], Loss: 0.2938\n",
      "Epoch [11/20], Step [100/282], Loss: 0.1820\n",
      "Epoch [11/20], Step [200/282], Loss: 0.2113\n",
      "Epoch [12/20], Step [100/282], Loss: 0.3708\n",
      "Epoch [12/20], Step [200/282], Loss: 0.0293\n",
      "Epoch [13/20], Step [100/282], Loss: 0.2646\n",
      "Epoch [13/20], Step [200/282], Loss: 0.1521\n",
      "Epoch [14/20], Step [100/282], Loss: 0.2615\n",
      "Epoch [14/20], Step [200/282], Loss: 0.1668\n",
      "Epoch [15/20], Step [100/282], Loss: 0.1743\n",
      "Epoch [15/20], Step [200/282], Loss: 0.0636\n",
      "Epoch [16/20], Step [100/282], Loss: 0.1015\n",
      "Epoch [16/20], Step [200/282], Loss: 0.4653\n",
      "Epoch [17/20], Step [100/282], Loss: 0.3925\n",
      "Epoch [17/20], Step [200/282], Loss: 0.1645\n",
      "Epoch [18/20], Step [100/282], Loss: 0.1705\n",
      "Epoch [18/20], Step [200/282], Loss: 0.4565\n",
      "Epoch [19/20], Step [100/282], Loss: 0.0366\n",
      "Epoch [19/20], Step [200/282], Loss: 0.0356\n",
      "Epoch [20/20], Step [100/282], Loss: 0.1634\n",
      "Epoch [20/20], Step [200/282], Loss: 0.0777\n"
     ]
    }
   ],
   "source": [
    "# 定义训练过程\n",
    "def train_model(model, train_loader, criterion, optimizer, num_epochs, device='cpu'):\n",
    "    for epoch in range(num_epochs):\n",
    "        for i, (signals, labels) in enumerate(train_loader):\n",
    "            # 前向传播\n",
    "            # print(signals.shape)\n",
    "            signals, labels = signals.to(device), labels.to(device)\n",
    "            outputs = model(signals)\n",
    "            loss = criterion(outputs, labels)\n",
    "            \n",
    "            # 反向传播和优化\n",
    "            optimizer.zero_grad()\n",
    "            loss.backward()\n",
    "            optimizer.step()\n",
    "            \n",
    "            if (i+1) % 100 == 0:\n",
    "                print(f'Epoch [{epoch+1}/{num_epochs}], Step [{i+1}/{len(train_loader)}], Loss: {loss.item():.4f}')\n",
    "                \n",
    "# 开始执行模型训练\n",
    "train_model(model, train_loader, criterion, optimizer, num_epochs=20, device=device)"
   ]
  },
  {
   "cell_type": "markdown",
   "metadata": {},
   "source": [
    "## Step4：测试集验证"
   ]
  },
  {
   "cell_type": "code",
   "execution_count": 239,
   "metadata": {},
   "outputs": [
    {
     "name": "stdout",
     "output_type": "stream",
     "text": [
      "Accuracy of the model on the test data: 94.06666666666666%\n",
      "Average loss: 0.19357636576270063\n"
     ]
    }
   ],
   "source": [
    "## Step4：测试集验证\n",
    "# 读取测试数据集\n",
    "data_test = np.loadtxt('./data/ECG5000_TEST.txt')\n",
    "\n",
    "# 获取data和label\n",
    "test_data, test_labels = data_train[:, 1:], data_train[:, 0]-1.0\n",
    "test_data = torch.tensor(test_data, dtype=torch.float32).unsqueeze(1)\n",
    "test_labels = torch.tensor(test_labels, dtype=torch.long)\n",
    "\n",
    "test_dataset = CustomDataset(test_data, test_labels)\n",
    "test_loader = DataLoader(test_dataset, batch_size=1, shuffle=False)\n",
    "\n",
    "model.eval()\n",
    "\n",
    "correct = 0\n",
    "total = 0\n",
    "total_loss = 0.0\n",
    "\n",
    "y_pred = []\n",
    "y_true = []\n",
    "\n",
    "with torch.no_grad():  # 关闭梯度计算\n",
    "    for data, labels in test_loader:\n",
    "        if device.type == 'cuda':\n",
    "            data, labels = data.to(device), labels.to(device)  # Move data and labels to the device\n",
    "        outputs = model(data)\n",
    "        loss = F.cross_entropy(outputs, labels)  # 计算损失\n",
    "        total_loss += loss.item()\n",
    "        _, predicted = torch.max(outputs.data, 1)\n",
    "        total += labels.size(0)\n",
    "        correct += (predicted == labels).sum().item()\n",
    "        \n",
    "        y_pred.extend(predicted.cpu().numpy())  # 收集预测结果\n",
    "        y_true.extend(labels.cpu().numpy())     # 收集真实标签\n",
    "\n",
    "average_loss = total_loss / len(test_loader)\n",
    "accuracy = correct / total\n",
    "print(f'Accuracy of the model on the test data: {100 * accuracy}%')\n",
    "print(f'Average loss: {average_loss}')"
   ]
  },
  {
   "cell_type": "markdown",
   "metadata": {},
   "source": [
    "## Step5: 绘制confusion matrix\n"
   ]
  },
  {
   "cell_type": "code",
   "execution_count": 240,
   "metadata": {},
   "outputs": [
    {
     "name": "stderr",
     "output_type": "stream",
     "text": [
      "/tmp/ipykernel_19080/3463582496.py:16: UserWarning: FixedFormatter should only be used together with FixedLocator\n",
      "  ax.set_xticklabels([''] + list(np.unique(y_pred)))\n",
      "/tmp/ipykernel_19080/3463582496.py:17: UserWarning: FixedFormatter should only be used together with FixedLocator\n",
      "  ax.set_yticklabels([''] + list(np.unique(y_pred)))\n"
     ]
    },
    {
     "data": {
      "image/png": "[encoded data removed]",
      "text/plain": [
       "<Figure size 640x480 with 2 Axes>"
      ]
     },
     "metadata": {},
     "output_type": "display_data"
    }
   ],
   "source": [
    "from sklearn.metrics import confusion_matrix\n",
    "import matplotlib.pyplot as plt \n",
    "\n",
    "# 使用matplotlib绘制混淆矩阵\n",
    "# 计算混淆矩阵\n",
    "cm = confusion_matrix(y_true, y_pred)\n",
    "fig, ax = plt.subplots()\n",
    "cax = ax.matshow(cm, cmap=plt.cm.Oranges)  # 选择颜色映射\n",
    "\n",
    "# 为图添加颜色条\n",
    "plt.colorbar(cax)\n",
    "\n",
    "# 设置坐标轴\n",
    "ax.set_xlabel('Predicted')\n",
    "ax.set_ylabel('Actual')\n",
    "ax.set_xticklabels([''] + list(np.unique(y_pred)))\n",
    "ax.set_yticklabels([''] + list(np.unique(y_pred)))\n",
    "\n",
    "# 在混淆矩阵的各个单元格中添加数值标签\n",
    "for (i, j), val in np.ndenumerate(cm):\n",
    "    ax.text(j, i, f'{val}', ha='center', va='center', color='black')\n",
    "\n",
    "# 显示图表\n",
    "plt.show()"
   ]
  },
  {
   "cell_type": "markdown",
   "metadata": {},
   "source": [
    "## 打印模型结构、参数"
   ]
  },
  {
   "cell_type": "code",
   "execution_count": 241,
   "metadata": {},
   "outputs": [
    {
     "name": "stdout",
     "output_type": "stream",
     "text": [
      "Layer: lstm\n",
      "Structure: LSTM(140, 2, batch_first=True)\n",
      "\n",
      "Layer: fc\n",
      "Structure: Linear(in_features=2, out_features=5, bias=True)\n",
      "\n",
      "weight_ih_l0: torch.Size([8, 140])\n",
      "weight_hh_l0: torch.Size([8, 2])\n",
      "bias_ih_l0: torch.Size([8])\n",
      "bias_hh_l0: torch.Size([8])\n",
      " \n",
      "--------------------------------\n",
      "\n",
      "Layer: lstm.weight_ih_l0 | Size: torch.Size([8, 140]) | Number of Parameters: 1120\n",
      "Layer: lstm.weight_hh_l0 | Size: torch.Size([8, 2]) | Number of Parameters: 16\n",
      "Layer: lstm.bias_ih_l0 | Size: torch.Size([8]) | Number of Parameters: 8\n",
      "Layer: lstm.bias_hh_l0 | Size: torch.Size([8]) | Number of Parameters: 8\n",
      "Layer: fc.weight | Size: torch.Size([5, 2]) | Number of Parameters: 10\n",
      "Layer: fc.bias | Size: torch.Size([5]) | Number of Parameters: 5\n",
      " \n",
      "--------------------------------\n",
      "\n",
      "模型总参数量: 4668 Bytes \n"
     ]
    }
   ],
   "source": [
    "for name, layer in model.named_children():\n",
    "    print(f\"Layer: {name}\")\n",
    "    print(f\"Structure: {layer}\")\n",
    "    if hasattr(layer, 'activation'):\n",
    "        print(f\"Activation Function: {layer.activation}\")\n",
    "    print()\n",
    "    \n",
    "lstm_params = list(model.lstm.named_parameters())\n",
    "for name, param in lstm_params:\n",
    "    print(f\"{name}: {param.size()}\")\n",
    "    \n",
    "print(\" \\n--------------------------------\\n\")\n",
    "  \n",
    "total_params = 0\n",
    "for name, param in model.named_parameters():\n",
    "    num_params = param.numel()\n",
    "    total_params += num_params\n",
    "    print(f\"Layer: {name} | Size: {param.size()} | Number of Parameters: {num_params}\")\n",
    "\n",
    "print(\" \\n--------------------------------\\n\")\n",
    "\n",
    "print(f\"模型总参数量: {total_params * 4} Bytes \")"
   ]
  },
  {
   "cell_type": "markdown",
   "metadata": {},
   "source": [
    "## numpy实现LSTM前向推理过程\n",
    "\n",
    "基于numpy实现推理的流程，很容易实现基于C代码实现LSTM的前向推理。\n",
    "\n",
    "### LSTM推理公式\n",
    "\n",
    "\\begin{array}{ll} \\\\\n",
    "    i_t = \\sigma(W_{ii} x_t + b_{ii} + W_{hi} h_{t-1} + b_{hi}) \\\\\n",
    "    f_t = \\sigma(W_{if} x_t + b_{if} + W_{hf} h_{t-1} + b_{hf}) \\\\\n",
    "    g_t = \\tanh(W_{ig} x_t + b_{ig} + W_{hg} h_{t-1} + b_{hg}) \\\\\n",
    "    o_t = \\sigma(W_{io} x_t + b_{io} + W_{ho} h_{t-1} + b_{ho}) \\\\\n",
    "    c_t = f_t \\odot c_{t-1} + i_t \\odot g_t \\\\\n",
    "    h_t = o_t \\odot \\tanh(c_t) \\\\\n",
    "\\end{array}"
   ]
  },
  {
   "cell_type": "code",
   "execution_count": 258,
   "metadata": {},
   "outputs": [
    {
     "name": "stdout",
     "output_type": "stream",
     "text": [
      "lstm.weight_ih_l0: torch.Size([8, 140])\n",
      "lstm.weight_hh_l0: torch.Size([8, 2])\n",
      "lstm.bias_ih_l0: torch.Size([8])\n",
      "lstm.bias_hh_l0: torch.Size([8])\n",
      "fc.weight: torch.Size([5, 2])\n",
      "fc.bias: torch.Size([5])\n",
      "--------------------------------------------\n",
      "总参数量：1152\n",
      "[[ 4.73618476 -2.23953913 -0.52087417 -1.40710702 -1.11496868]] \n",
      " [[ 4.736184  -2.2395387 -0.5208742 -1.4071069 -1.1149687]]\n",
      "预测类型：0, 真值： 0.0\n"
     ]
    }
   ],
   "source": [
    "import numpy as np\n",
    "\n",
    "def sigmoid(x):\n",
    "    return 1 / (1 + np.exp(-x))\n",
    "\n",
    "def tanh(x):\n",
    "    return np.tanh(x)\n",
    "\n",
    "def lstm_forward_step(input, hx, cx, weights):\n",
    "    wi, wf, wg, wo = np.split(weights['lstm.weight_ih_l0'], 4)\n",
    "    bi, bf, bg, bo = np.split(weights['lstm.bias_ih_l0'], 4)\n",
    "    whi, whf, whg, who = np.split(weights['lstm.weight_hh_l0'], 4)\n",
    "    bhi, bhf, bhg, bho = np.split(weights['lstm.bias_hh_l0'], 4)\n",
    "    \n",
    "    # print(weights['lstm.weight_ih_l0'].shape)\n",
    "    # print(weights['lstm.bias_ih_l0'].shape)\n",
    "    # print(weights['lstm.weight_hh_l0'].shape)\n",
    "    # print(weights['lstm.weight_hh_l0'].shape)\n",
    "    \n",
    "    totol_size = 0\n",
    "    totol_size += wi.size + wf.size + wg.size + wo.size\n",
    "    totol_size += bi.size + bf.size + bg.size + bo.size\n",
    "    totol_size += whi.size + whf.size + whg.size + who.size\n",
    "    totol_size += bhi.size + bhf.size + bhg.size + bho.size\n",
    "    print(f\"总参数量：{totol_size}\")\n",
    "\n",
    "    i = sigmoid(np.dot(input, wi.T) + bi + np.dot(hx, whi.T) + bhi)\n",
    "    f = sigmoid(np.dot(input, wf.T) + bf + np.dot(hx, whf.T) + bhf)\n",
    "    g = tanh(np.dot(input, wg.T) + bg + np.dot(hx, whg.T) + bhg)\n",
    "    o = sigmoid(np.dot(input, wo.T) + bo + np.dot(hx, who.T) + bho)\n",
    "\n",
    "    # cx = f * cx + i * g  # 此处可以简化，因为在当前案例中，每次输入的cx为zeros矩阵\n",
    "    cx = i * g\n",
    "    hx = o * tanh(cx)\n",
    "\n",
    "    return hx, cx\n",
    "\n",
    "def fully_connected(x, weights):\n",
    "    return np.dot(x, weights['fc.weight'].T) + weights['fc.bias']\n",
    "\n",
    "\n",
    "def model_inference(x, params):\n",
    "    hidden_size = params['lstm.weight_ih_l0'].shape[0] // 4\n",
    "    hx = np.zeros((1, hidden_size))\n",
    "    cx = np.zeros((1, hidden_size))\n",
    "\n",
    "    # # LSTM 通过每个时间步\n",
    "    # seq_length = x.shape[1]\n",
    "    # for t in range(seq_length):\n",
    "    #     hx, cx = lstm_forward_step(x[:, t, :], hx, cx, params)\n",
    "    \n",
    "    hx, cx = lstm_forward_step(x[0, 0, :], hx, cx, params)\n",
    "\n",
    "    # 应用全连接层\n",
    "    out = fully_connected(hx, params)\n",
    "    return out\n",
    "\n",
    "\n",
    "# 实例化模型\n",
    "input_size = 140\n",
    "hidden_size = 16\n",
    "\n",
    "# 打印模型的权重\n",
    "for name, param in model.named_parameters():\n",
    "    print(f\"{name}: {param.size()}\")\n",
    "print('--------------------------------------------')\n",
    "\n",
    "# 将模型权重转换为 NumPy 数组\n",
    "params = {name: param.detach().cpu().numpy() for name, param in model.named_parameters()}\n",
    "\n",
    "# 初始化隐藏和细胞状态\n",
    "hx = np.zeros((1, hidden_size))\n",
    "cx = np.zeros((1, hidden_size))\n",
    "\n",
    "# 读取测试数据集\n",
    "data_test = np.loadtxt('./data/ECG5000_TEST.txt')\n",
    "\n",
    "# 获取data和label\n",
    "test_data, test_labels = data_test[:, 1:], data_test[:, 0]-1.0\n",
    "\n",
    "# 随机选择一个测试样本\n",
    "rd_idx = np.random.randint(test_labels.shape[0])\n",
    "input_data = test_data[rd_idx,:]\n",
    "input_data = input_data.reshape([1,1,140])\n",
    "\n",
    "# 执行 LSTM 前向传播\n",
    "output = model_inference(input_data, params)\n",
    "\n",
    "# 使用原本model进行推理\n",
    "model.eval()\n",
    "input_data = torch.tensor(input_data.reshape([1,1,140]), dtype=torch.float32).to(device=device)\n",
    "output2 = model(input_data)\n",
    "output2 = output2.detach().cpu().numpy()\n",
    "\n",
    "# 打印两种推理方式的结果，可以看到是一致的\n",
    "print(output, '\\n' , output2)\n",
    "\n",
    "# 预测label\n",
    "predict_ = np.argmax(output)\n",
    "\n",
    "print(f\"预测类型：{predict_}, 真值： {test_labels[rd_idx]}\")"
   ]
  }
 ],
 "metadata": {
  "kernelspec": {
   "display_name": "base",
   "language": "python",
   "name": "python3"
  },
  "language_info": {
   "codemirror_mode": {
    "name": "ipython",
    "version": 3
   },
   "file_extension": ".py",
   "mimetype": "text/x-python",
   "name": "python",
   "nbconvert_exporter": "python",
   "pygments_lexer": "ipython3",
   "version": "3.9.7"
  }
 },
 "nbformat": 4,
 "nbformat_minor": 2
}
