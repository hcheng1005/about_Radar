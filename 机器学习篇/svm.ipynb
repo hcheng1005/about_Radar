{
 "cells": [
  {
   "cell_type": "markdown",
   "metadata": {},
   "source": [
    "# SVM\n",
    "\n",
    "[支持向量机（SVM）原理](https://www.cnblogs.com/huangyc/p/9931233.html)\n",
    "\n",
    "[SVM多分类问题](https://www.cnblogs.com/jpcflyer/p/11082443.html)\n",
    "\n",
    "\n",
    "## 基本介绍\n",
    "（1）支持向量机，英文全称“Support Vector Machines”（简称 SVM），它是机器学习中最常用的一种“分类算法”。在深度学习没有普及之前，“支持向量机”可以称的上是传统机器学习中的“霸主”。\n",
    "\n",
    "（2）**建立一个最优决策超平面，使得该平面两侧距离该平面最近的两类样本之间的距离最大化**，从而对分类问题提供良好的泛化能力。对于一个多维的样本集，系统随机产生一个超平面并不断移动，对样本进行分类，直到训练样本中属于不同类别的样本点正好位于该超平面的两侧，满足该条件的超平面可能有很多个，SVM 正式在保证分类精度的同时，寻找到这样一个超平面，使得超平面两侧的空白区域最大化，从而实现对线性可分样本的最优分类。\n",
    "\n",
    "<div align=center>\n",
    "<img src=\"images/20240418152535.png\" width=\"30%\">\n",
    "</div>\n",
    "\n",
    "（3）支持向量机的三个重要部件为：最大间隔、高维映射、核函数。而**高维映射的核心就是“核函数”**，它在支持向量机中承担着两项任务，一是增加空间的维度，二是完成现有数据从原空间到高维空间的映射。\n",
    "\n",
    "在 Pyhthon Sklearn 库提供了多种核函数，使用不同的核函数会对最终的分类效果带来不同程度影响，因此要选择使得分类效果最优的核函数。具体核函数如下：\n",
    "- linear：选择线性函数；\n",
    "  \n",
    "- polynomial：选择多项式函数；\n",
    "\n",
    "- rbf：选择径向基函数；\n",
    "\n",
    "- sigmoid：选择 Logistics 函数作为核函数；\n",
    "  \n",
    "- precomputed：使用预设核值矩阵，\n",
    " \n",
    "- SVC 类默认以径向基函数作为核函数。"
   ]
  },
  {
   "cell_type": "code",
   "execution_count": 10,
   "metadata": {},
   "outputs": [
    {
     "name": "stdout",
     "output_type": "stream",
     "text": [
      "模型评分： 0.9736842105263158\n",
      "-----------------------------------------------------\n",
      "模型评分： 0.9736842105263158\n",
      "-----------------------------------------------------\n"
     ]
    }
   ],
   "source": [
    "#导入 sklearn 提供的鸢尾花数据\n",
    "from sklearn.datasets import load_iris\n",
    "#导入 导入skleran 提供的支持向量机算法\n",
    "from sklearn.svm import SVC\n",
    "#导入skleran 提供的分割数据集的方法\n",
    "from sklearn.model_selection import train_test_split\n",
    "#导入pandas\n",
    "import pandas as pd\n",
    "    \n",
    "#加载数据集\n",
    "iris = load_iris()\n",
    "\n",
    "#分割数据集训练集，测试集\n",
    "x_train,x_test,y_train,y_test=train_test_split(iris['data'],iris['target'],random_state=0)\n",
    "\n",
    "#使用SVM.SVC分类算法搭建预测模型，并以径向基函数做为核函数的实现高维映射\n",
    "model=SVC(kernel='rbf')\n",
    "\n",
    "#训练模型\n",
    "model.fit(x_train,y_train)\n",
    "\n",
    "#训练后用测试集对模型进行评分\n",
    "print(\"模型评分：\",model.score(x_test,y_test))\n",
    "print('-----------------------------------------------------')\n",
    "    \n",
    "# print('测试集前5条数据特征值: ')\n",
    "# print(pd.DataFrame(x_test).head(5))\n",
    "# print('-----------------------------------------------------')\n",
    "# print('测试集前5条数据目标值: ')\n",
    "# print(pd.DataFrame(y_test).head(5))\n",
    "# print('-----------------------------------------------------')\n",
    "\n",
    "#使用模型预测\n",
    "# y_predict=model.predict(x_test)\n",
    "# print('使用模型预测测试集前5条数据的目标值: ')\n",
    "# print(pd.DataFrame(y_predict).head(5))\n",
    "\n",
    "# 使用其他kernel再次训练模型\n",
    "model_poly=SVC(kernel='linear') #  {'linear', 'poly', 'rbf', 'sigmoid', 'precomputed'}\n",
    "\n",
    "#训练模型\n",
    "model_poly.fit(x_train,y_train)\n",
    "\n",
    "#训练后用测试集对模型进行评分\n",
    "print(\"模型评分：\",model_poly.score(x_test,y_test))\n",
    "print('-----------------------------------------------------')\n",
    "\n",
    "#使用模型预测\n",
    "# y_predict=model_poly.predict(x_test)\n",
    "# print('使用模型预测测试集前5条数据的目标值: ')\n",
    "# print(pd.DataFrame(y_predict).head(5))"
   ]
  },
  {
   "cell_type": "markdown",
   "metadata": {},
   "source": [
    "## 详细介绍\n",
    "\n",
    "### 感知机\n",
    "\n",
    "在介绍SVM之前需先熟悉感知机章节的相关概念。\n"
   ]
  }
 ],
 "metadata": {
  "kernelspec": {
   "display_name": "base",
   "language": "python",
   "name": "python3"
  },
  "language_info": {
   "codemirror_mode": {
    "name": "ipython",
    "version": 3
   },
   "file_extension": ".py",
   "mimetype": "text/x-python",
   "name": "python",
   "nbconvert_exporter": "python",
   "pygments_lexer": "ipython3",
   "version": "3.9.7"
  }
 },
 "nbformat": 4,
 "nbformat_minor": 2
}
